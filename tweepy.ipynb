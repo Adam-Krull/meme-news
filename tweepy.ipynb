{
 "cells": [
  {
   "cell_type": "markdown",
   "metadata": {},
   "source": [
<<<<<<< HEAD
    "# Purpose\n",
    "\n",
    "Use the [tweepy](https://docs.tweepy.org/en/stable/) library to upload media to the X API and post tweets referencing the uploaded media. I may need to walk through some previous work done in the meme_tweeting.ipynb notebook to obtain oauth access tokens.\n",
    "\n",
    "Note: I did not need to go through the workflow found in the aforementioned notebook. I am able to use the keys provided to me from the X developer portal to authenticate my program. Tweepy streamlines the process in a convenient way."
=======
    "# Tweepy\n",
    "\n",
    "It has come to my attention that I can use the [Tweepy library](https://docs.tweepy.org/en/stable/) to post tweets containing media. To do this, I have to complete two steps: upload my meme image to X via the 1.1 API, and post the tweet that references the uploaded media using the 2.0 API. I will work through these steps in this notebook. I will use the knowledge gained from this notebook to develop a final (third) script to take all my approved memes and post them to X with context."
>>>>>>> 3f3db3548a355329c3dfb6e0efe345db7ac528df
   ]
  },
  {
   "cell_type": "code",
   "execution_count": 1,
   "metadata": {},
   "outputs": [],
   "source": [
<<<<<<< HEAD
    "import tweepy\n",
    "import json\n",
    "import os\n",
    "\n",
    "from env import X_API_KEY, X_SECRET_KEY, X_CLIENT, X_CLIENT_SECRET"
   ]
  },
  {
   "cell_type": "markdown",
   "metadata": {},
   "source": [
    "I can authenticate myself with X using the bearer token. I create an instance of the tweepy.API class using a number of credentials provided by the developer portal. I am using the consumer keys (public/secret) and the authentication tokens (public/secret)."
   ]
  },
  {
   "cell_type": "code",
   "execution_count": 2,
   "metadata": {},
   "outputs": [],
   "source": [
    "auth = tweepy.OAuth1UserHandler(X_API_KEY, X_SECRET_KEY,\n",
    "                                X_CLIENT, X_CLIENT_SECRET)\n",
    "\n",
    "api = tweepy.API(auth)"
=======
    "import json\n",
    "import os\n",
    "import tweepy\n",
    "\n",
    "from env import "
>>>>>>> 3f3db3548a355329c3dfb6e0efe345db7ac528df
   ]
  },
  {
   "cell_type": "markdown",
   "metadata": {},
   "source": [
<<<<<<< HEAD
    "Now that I have authenticated this application, I need to select a meme to upload. I'll use an approved meme from the batch created in late January. I only need to define the path to the image file and tweepy will handle the rest."
=======
    "First, I need to read in the list of approved memes from a previous day's batch on 2024-01-21."
>>>>>>> 3f3db3548a355329c3dfb6e0efe345db7ac528df
   ]
  },
  {
   "cell_type": "code",
   "execution_count": 3,
   "metadata": {},
   "outputs": [
    {
     "data": {
      "text/plain": [
<<<<<<< HEAD
       "Media(_api=<tweepy.api.API object at 0x00000220780A26A0>, media_id=1754159864371191808, media_id_string='1754159864371191808', size=27363, expires_after_secs=86400, image={'image_type': 'image/jpeg', 'w': 512, 'h': 512})"
=======
       "[{'headline': 'Trump maintains massive lead in New Hampshire days ahead of first primary: poll',\n",
       "  'image': '2024-01-21/1705875299-12-meme.jpg'},\n",
       " {'headline': \"Cowboys' Mike McCarthy not expected to get extension, sources say\",\n",
       "  'image': '2024-01-21/1705875082-3-meme.jpg'},\n",
       " {'headline': 'Fed to Begin Rate Cut Discussions But Avoid Teeing First One Up',\n",
       "  'image': '2024-01-21/1705875392-15-meme.jpg'},\n",
       " {'headline': '‘Doctor Who’ Star Millie Gibson to Be Replaced by Varada Sethu After One Season',\n",
       "  'image': '2024-01-21/1705875091-4-meme.jpg'},\n",
       " {'headline': 'Rain in the forecast tonight for Packers at 49ers',\n",
       "  'image': '2024-01-21/1705875195-8-meme.jpg'},\n",
       " {'headline': \"The Vision Pro's first killer app is the web, whether Apple likes it or not\",\n",
       "  'image': '2024-01-21/1705875280-10-meme.jpg'},\n",
       " {'headline': 'Watch Pauly Shore Become Richard Simmons in Short Film ‘The Court Jester’',\n",
       "  'image': '2024-01-21/1705875317-14-meme.jpg'},\n",
       " {'headline': 'Seoul police chief indicted over Halloween crush',\n",
       "  'image': '2024-01-21/1705875308-13-meme.jpg'},\n",
       " {'headline': \"CDC expanding tainted charcuterie meat probe affecting Costco, Sam's Club\",\n",
       "  'image': '2024-01-21/1705875071-2-meme.jpg'}]"
>>>>>>> 3f3db3548a355329c3dfb6e0efe345db7ac528df
      ]
     },
     "execution_count": 3,
     "metadata": {},
     "output_type": "execute_result"
    }
   ],
   "source": [
<<<<<<< HEAD
    "filepath = \"2024-01-21/1705875299-12-meme.jpg\"\n",
    "\n",
    "response = api.media_upload(filepath)\n",
    "\n",
    "response"
=======
    "filepath = '2024-01-21/approved.json'\n",
    "\n",
    "with open(filepath, 'r') as f:\n",
    "    approved_memes = json.load(f)\n",
    "\n",
    "approved_memes    "
>>>>>>> 3f3db3548a355329c3dfb6e0efe345db7ac528df
   ]
  },
  {
   "cell_type": "markdown",
   "metadata": {},
   "source": [
<<<<<<< HEAD
    "Success! Now I need to authenticate myself with the X API v2.0 to post a tweet."
=======
    "Let's isolate one headline/meme pair to post a tweet in a way that can be easily reproduced for the entire list of approved memes. I'll choose the headline about the Packers because I am a lifelong Packers fan. Go Pack!"
>>>>>>> 3f3db3548a355329c3dfb6e0efe345db7ac528df
   ]
  },
  {
   "cell_type": "code",
<<<<<<< HEAD
   "execution_count": 6,
   "metadata": {},
   "outputs": [],
   "source": [
    "client = tweepy.Client(consumer_key=X_API_KEY, consumer_secret=X_SECRET_KEY,\n",
    "                       access_token=X_CLIENT, access_token_secret=X_CLIENT_SECRET)"
   ]
  },
  {
   "cell_type": "markdown",
   "metadata": {},
   "source": [
    "My client should be successfully authenticated. Now I need to define a payload and create a tweet that references the media_id_string returned from uploading the meme."
   ]
  },
  {
   "cell_type": "code",
   "execution_count": 7,
=======
   "execution_count": 5,
>>>>>>> 3f3db3548a355329c3dfb6e0efe345db7ac528df
   "metadata": {},
   "outputs": [
    {
     "data": {
      "text/plain": [
<<<<<<< HEAD
       "Response(data={'edit_history_tweet_ids': ['1754164583349060011'], 'id': '1754164583349060011', 'text': 'Trump maintains massive lead in New Hampshire days ahead of first primary #currentevents #memenews https://t.co/oY4M9L0kUL'}, includes={}, errors=[], meta={})"
      ]
     },
     "execution_count": 7,
=======
       "{'headline': 'Rain in the forecast tonight for Packers at 49ers',\n",
       " 'image': '2024-01-21/1705875195-8-meme.jpg'}"
      ]
     },
     "execution_count": 5,
>>>>>>> 3f3db3548a355329c3dfb6e0efe345db7ac528df
     "metadata": {},
     "output_type": "execute_result"
    }
   ],
   "source": [
<<<<<<< HEAD
    "media_id = response.media_id_string\n",
    "text = \"Trump maintains massive lead in New Hampshire days ahead of first primary #currentevents #memenews\"\n",
    "\n",
    "response = client.create_tweet(media_ids=[media_id], text=text)\n",
    "\n",
    "response"
=======
    "pair = approved_memes[4]\n",
    "pair"
>>>>>>> 3f3db3548a355329c3dfb6e0efe345db7ac528df
   ]
  },
  {
   "cell_type": "markdown",
   "metadata": {},
   "source": [
<<<<<<< HEAD
    "[This is cool.](https://twitter.com/DodgyWaters/status/1754164583349060011)"
   ]
  },
  {
   "cell_type": "markdown",
   "metadata": {},
   "source": []
=======
    "I need to establish a connection to the v1.1 API for media upload. To achieve this, I will create an instance of the tweepy [API class](https://docs.tweepy.org/en/stable/api.html#upload-media) for the v1.1 API."
   ]
  },
  {
   "cell_type": "code",
   "execution_count": null,
   "metadata": {},
   "outputs": [],
   "source": [
    "media_api = tweepy.API()"
   ]
>>>>>>> 3f3db3548a355329c3dfb6e0efe345db7ac528df
  }
 ],
 "metadata": {
  "kernelspec": {
   "display_name": "base",
   "language": "python",
   "name": "python3"
  },
  "language_info": {
   "codemirror_mode": {
    "name": "ipython",
    "version": 3
   },
   "file_extension": ".py",
   "mimetype": "text/x-python",
   "name": "python",
   "nbconvert_exporter": "python",
   "pygments_lexer": "ipython3",
<<<<<<< HEAD
   "version": "3.8.5"
=======
   "version": "3.9.17"
>>>>>>> 3f3db3548a355329c3dfb6e0efe345db7ac528df
  }
 },
 "nbformat": 4,
 "nbformat_minor": 2
}
