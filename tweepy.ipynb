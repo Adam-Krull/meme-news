{
 "cells": [
  {
   "cell_type": "markdown",
   "metadata": {},
   "source": [
    "# Purpose\n",
    "\n",
    "Use the [tweepy](https://docs.tweepy.org/en/stable/) library to upload media to the X API and post tweets referencing the uploaded media. I may need to walk through some previous work done in the meme_tweeting.ipynb notebook to obtain oauth access tokens.\n",
    "\n",
    "Note: I did not need to go through the workflow found in the aforementioned notebook. I am able to use the keys provided to me from the X developer portal to authenticate my program. Tweepy streamlines the process in a convenient way."
   ]
  },
  {
   "cell_type": "code",
   "execution_count": 1,
   "metadata": {},
   "outputs": [],
   "source": [
    "import tweepy\n",
    "import json\n",
    "import os\n",
    "\n",
    "from env import X_API_KEY, X_SECRET_KEY, X_CLIENT, X_CLIENT_SECRET"
   ]
  },
  {
   "cell_type": "markdown",
   "metadata": {},
   "source": [
    "I can authenticate myself with X using the bearer token. I create an instance of the tweepy.API class using a number of credentials provided by the developer portal. I am using the consumer keys (public/secret) and the authentication tokens (public/secret)."
   ]
  },
  {
   "cell_type": "code",
   "execution_count": 2,
   "metadata": {},
   "outputs": [],
   "source": [
    "auth = tweepy.OAuth1UserHandler(X_API_KEY, X_SECRET_KEY,\n",
    "                                X_CLIENT, X_CLIENT_SECRET)\n",
    "\n",
    "api = tweepy.API(auth)"
   ]
  },
  {
   "cell_type": "markdown",
   "metadata": {},
   "source": [
    "Now that I have authenticated this application, I need to select a meme to upload. I'll use an approved meme from the batch created in late January. I only need to define the path to the image file and tweepy will handle the rest."
   ]
  },
  {
   "cell_type": "code",
   "execution_count": 3,
   "metadata": {},
   "outputs": [
    {
     "data": {
      "text/plain": [
       "Media(_api=<tweepy.api.API object at 0x00000220780A26A0>, media_id=1754159864371191808, media_id_string='1754159864371191808', size=27363, expires_after_secs=86400, image={'image_type': 'image/jpeg', 'w': 512, 'h': 512})"
      ]
     },
     "execution_count": 3,
     "metadata": {},
     "output_type": "execute_result"
    }
   ],
   "source": [
    "filepath = \"2024-01-21/1705875299-12-meme.jpg\"\n",
    "\n",
    "response = api.media_upload(filepath)\n",
    "\n",
    "response"
   ]
  },
  {
   "cell_type": "markdown",
   "metadata": {},
   "source": [
    "Success! Now I need to authenticate myself with the X API v2.0 to post a tweet."
   ]
  },
  {
   "cell_type": "code",
   "execution_count": 6,
   "metadata": {},
   "outputs": [],
   "source": [
    "client = tweepy.Client(consumer_key=X_API_KEY, consumer_secret=X_SECRET_KEY,\n",
    "                       access_token=X_CLIENT, access_token_secret=X_CLIENT_SECRET)"
   ]
  },
  {
   "cell_type": "markdown",
   "metadata": {},
   "source": [
    "My client should be successfully authenticated. Now I need to define a payload and create a tweet that references the media_id_string returned from uploading the meme."
   ]
  },
  {
   "cell_type": "code",
   "execution_count": 7,
   "metadata": {},
   "outputs": [
    {
     "data": {
      "text/plain": [
       "Response(data={'edit_history_tweet_ids': ['1754164583349060011'], 'id': '1754164583349060011', 'text': 'Trump maintains massive lead in New Hampshire days ahead of first primary #currentevents #memenews https://t.co/oY4M9L0kUL'}, includes={}, errors=[], meta={})"
      ]
     },
     "execution_count": 7,
     "metadata": {},
     "output_type": "execute_result"
    }
   ],
   "source": [
    "media_id = response.media_id_string\n",
    "text = \"Trump maintains massive lead in New Hampshire days ahead of first primary #currentevents #memenews\"\n",
    "\n",
    "response = client.create_tweet(media_ids=[media_id], text=text)\n",
    "\n",
    "response"
   ]
  },
  {
   "cell_type": "markdown",
   "metadata": {},
   "source": [
    "[This is cool.](https://twitter.com/DodgyWaters/status/1754164583349060011)"
   ]
  },
  {
   "cell_type": "markdown",
   "metadata": {},
   "source": []
  }
 ],
 "metadata": {
  "kernelspec": {
   "display_name": "base",
   "language": "python",
   "name": "python3"
  },
  "language_info": {
   "codemirror_mode": {
    "name": "ipython",
    "version": 3
   },
   "file_extension": ".py",
   "mimetype": "text/x-python",
   "name": "python",
   "nbconvert_exporter": "python",
   "pygments_lexer": "ipython3",
   "version": "3.8.5"
  }
 },
 "nbformat": 4,
 "nbformat_minor": 2
}
