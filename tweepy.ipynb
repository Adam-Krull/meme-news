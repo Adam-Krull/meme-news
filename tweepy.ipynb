{
 "cells": [
  {
   "cell_type": "markdown",
   "metadata": {},
   "source": [
    "# Tweepy\n",
    "\n",
    "It has come to my attention that I can use the [Tweepy library](https://docs.tweepy.org/en/stable/) to post tweets containing media. To do this, I have to complete two steps: upload my meme image to X via the 1.1 API, and post the tweet that references the uploaded media using the 2.0 API. I will work through these steps in this notebook. I will use the knowledge gained from this notebook to develop a final (third) script to take all my approved memes and post them to X with context."
   ]
  },
  {
   "cell_type": "code",
   "execution_count": 1,
   "metadata": {},
   "outputs": [],
   "source": [
    "import json\n",
    "import os\n",
    "import tweepy\n",
    "\n",
    "from env import "
   ]
  },
  {
   "cell_type": "markdown",
   "metadata": {},
   "source": [
    "First, I need to read in the list of approved memes from a previous day's batch on 2024-01-21."
   ]
  },
  {
   "cell_type": "code",
   "execution_count": 3,
   "metadata": {},
   "outputs": [
    {
     "data": {
      "text/plain": [
       "[{'headline': 'Trump maintains massive lead in New Hampshire days ahead of first primary: poll',\n",
       "  'image': '2024-01-21/1705875299-12-meme.jpg'},\n",
       " {'headline': \"Cowboys' Mike McCarthy not expected to get extension, sources say\",\n",
       "  'image': '2024-01-21/1705875082-3-meme.jpg'},\n",
       " {'headline': 'Fed to Begin Rate Cut Discussions But Avoid Teeing First One Up',\n",
       "  'image': '2024-01-21/1705875392-15-meme.jpg'},\n",
       " {'headline': '‘Doctor Who’ Star Millie Gibson to Be Replaced by Varada Sethu After One Season',\n",
       "  'image': '2024-01-21/1705875091-4-meme.jpg'},\n",
       " {'headline': 'Rain in the forecast tonight for Packers at 49ers',\n",
       "  'image': '2024-01-21/1705875195-8-meme.jpg'},\n",
       " {'headline': \"The Vision Pro's first killer app is the web, whether Apple likes it or not\",\n",
       "  'image': '2024-01-21/1705875280-10-meme.jpg'},\n",
       " {'headline': 'Watch Pauly Shore Become Richard Simmons in Short Film ‘The Court Jester’',\n",
       "  'image': '2024-01-21/1705875317-14-meme.jpg'},\n",
       " {'headline': 'Seoul police chief indicted over Halloween crush',\n",
       "  'image': '2024-01-21/1705875308-13-meme.jpg'},\n",
       " {'headline': \"CDC expanding tainted charcuterie meat probe affecting Costco, Sam's Club\",\n",
       "  'image': '2024-01-21/1705875071-2-meme.jpg'}]"
      ]
     },
     "execution_count": 3,
     "metadata": {},
     "output_type": "execute_result"
    }
   ],
   "source": [
    "filepath = '2024-01-21/approved.json'\n",
    "\n",
    "with open(filepath, 'r') as f:\n",
    "    approved_memes = json.load(f)\n",
    "\n",
    "approved_memes    "
   ]
  },
  {
   "cell_type": "markdown",
   "metadata": {},
   "source": [
    "Let's isolate one headline/meme pair to post a tweet in a way that can be easily reproduced for the entire list of approved memes. I'll choose the headline about the Packers because I am a lifelong Packers fan. Go Pack!"
   ]
  },
  {
   "cell_type": "code",
   "execution_count": 5,
   "metadata": {},
   "outputs": [
    {
     "data": {
      "text/plain": [
       "{'headline': 'Rain in the forecast tonight for Packers at 49ers',\n",
       " 'image': '2024-01-21/1705875195-8-meme.jpg'}"
      ]
     },
     "execution_count": 5,
     "metadata": {},
     "output_type": "execute_result"
    }
   ],
   "source": [
    "pair = approved_memes[4]\n",
    "pair"
   ]
  },
  {
   "cell_type": "markdown",
   "metadata": {},
   "source": [
    "I need to establish a connection to the v1.1 API for media upload. To achieve this, I will create an instance of the tweepy [API class](https://docs.tweepy.org/en/stable/api.html#upload-media) for the v1.1 API."
   ]
  },
  {
   "cell_type": "code",
   "execution_count": null,
   "metadata": {},
   "outputs": [],
   "source": [
    "media_api = tweepy.API()"
   ]
  }
 ],
 "metadata": {
  "kernelspec": {
   "display_name": "base",
   "language": "python",
   "name": "python3"
  },
  "language_info": {
   "codemirror_mode": {
    "name": "ipython",
    "version": 3
   },
   "file_extension": ".py",
   "mimetype": "text/x-python",
   "name": "python",
   "nbconvert_exporter": "python",
   "pygments_lexer": "ipython3",
   "version": "3.9.17"
  }
 },
 "nbformat": 4,
 "nbformat_minor": 2
}
