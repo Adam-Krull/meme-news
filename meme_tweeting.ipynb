{
 "cells": [
  {
   "cell_type": "markdown",
   "metadata": {},
   "source": [
    "# Purpose\n",
    "\n",
    "Develop a script that pulls from the approved.json file and tweets the memes/headlines to X. This is the final script in the three script pipeline: meme generation, selection, and publishing."
   ]
  },
  {
   "cell_type": "markdown",
   "metadata": {},
   "source": [
    "Imports"
   ]
  },
  {
   "cell_type": "code",
   "execution_count": 12,
   "metadata": {},
   "outputs": [],
   "source": [
    "import datetime\n",
    "import json\n",
    "import os\n",
    "\n",
    "from requests_oauthlib import OAuth1Session\n",
    "from env import X_API_KEY, X_SECRET_KEY\n"
   ]
  },
  {
   "cell_type": "markdown",
   "metadata": {},
   "source": [
    "Define the payload."
   ]
  },
  {
   "cell_type": "code",
   "execution_count": 3,
   "metadata": {},
   "outputs": [],
   "source": [
    "payload = {'text': 'Hello, World!'}"
   ]
  },
  {
   "cell_type": "markdown",
   "metadata": {},
   "source": [
    "Receive a request token with the ability to write a tweet. The code is largely taken from the APIv2 documentation found [here](https://github.com/twitterdev/Twitter-API-v2-sample-code/blob/main/Manage-Tweets/create_tweet.py)."
   ]
  },
  {
   "cell_type": "code",
   "execution_count": 4,
   "metadata": {},
   "outputs": [],
   "source": [
    "request_token_url = 'https://api.twitter.com/oauth/request_token?oauth_callback=oob&x_auth_access_type=write'\n",
    "\n",
    "oauth = OAuth1Session(X_API_KEY, client_secret = X_SECRET_KEY)\n",
    "\n",
    "try:\n",
    "\n",
    "    fetch_response = oauth.fetch_request_token(request_token_url)\n",
    "\n",
    "except ValueError:\n",
    "\n",
    "    print('Something went wrong..')    "
   ]
  },
  {
   "cell_type": "markdown",
   "metadata": {},
   "source": [
    "Nothing errored. I have retrieved a request token that allows me to post a tweet. Now I need to extract the authorization keys present in the response."
   ]
  },
  {
   "cell_type": "code",
   "execution_count": 5,
   "metadata": {},
   "outputs": [],
   "source": [
    "resource_key = fetch_response.get('oauth_token')\n",
    "\n",
    "resource_secret_key = fetch_response.get('oauth_token_secret')"
   ]
  },
  {
   "cell_type": "markdown",
   "metadata": {},
   "source": [
    "Now that I have authorization keys, I need to receive authorization from X."
   ]
  },
  {
   "cell_type": "code",
   "execution_count": 6,
   "metadata": {},
   "outputs": [
    {
     "name": "stdout",
     "output_type": "stream",
     "text": [
      "Visit this URL to authorize the connection: https://api.twitter.com/oauth/authorize?oauth_token=EuLy7QAAAAABrBo5AAABjSO33Eg\n"
     ]
    }
   ],
   "source": [
    "base_auth_url = 'https://api.twitter.com/oauth/authorize'\n",
    "\n",
    "auth_url = oauth.authorization_url(base_auth_url)\n",
    "\n",
    "print(f'Visit this URL to authorize the connection: {auth_url}')\n",
    "\n",
    "verifier = input('Paste PIN here: ')"
   ]
  },
  {
   "cell_type": "markdown",
   "metadata": {},
   "source": [
    "I visited the URL and authorized my application. Now I need to retrieve my access token."
   ]
  },
  {
   "cell_type": "code",
   "execution_count": 7,
   "metadata": {},
   "outputs": [],
   "source": [
    "access_token_url = 'https://api.twitter.com/oauth/access_token'\n",
    "\n",
    "oauth = OAuth1Session(\n",
    "    X_API_KEY,\n",
    "    client_secret = X_SECRET_KEY,\n",
    "    resource_owner_key = resource_key,\n",
    "    resource_owner_secret = resource_secret_key,\n",
    "    verifier = verifier\n",
    ")\n",
    "\n",
    "oauth_tokens = oauth.fetch_access_token(access_token_url)\n",
    "\n",
    "access_token = oauth_tokens['oauth_token']\n",
    "access_secret = oauth_tokens['oauth_token_secret']"
   ]
  },
  {
   "cell_type": "markdown",
   "metadata": {},
   "source": [
    "I am able to retrieve an access token and a secret access token. I will use these tokens to authorize my request to post a tweet."
   ]
  },
  {
   "cell_type": "code",
   "execution_count": 8,
   "metadata": {},
   "outputs": [],
   "source": [
    "oauth = OAuth1Session(\n",
    "    X_API_KEY,\n",
    "    client_secret = X_SECRET_KEY,\n",
    "    resource_owner_key = access_token,\n",
    "    resource_owner_secret = access_secret\n",
    ")"
   ]
  },
  {
   "cell_type": "markdown",
   "metadata": {},
   "source": [
    "Now that I have a new oauth session with my consumer keys and access tokens, I can post a tweet."
   ]
  },
  {
   "cell_type": "code",
   "execution_count": 9,
   "metadata": {},
   "outputs": [],
   "source": [
    "response = oauth.post(\n",
    "    'https://api.twitter.com/2/tweets',\n",
    "    json=payload,\n",
    ")\n",
    "\n",
    "if response.status_code != 201:\n",
    "    raise Exception(\n",
    "        f'Received error {response.status_code} with message {response.text}.'\n",
    "    )"
   ]
  },
  {
   "cell_type": "markdown",
   "metadata": {},
   "source": [
    "The tweet is [live!](https://twitter.com/DodgyWaters/status/1748466969978830864) This is incredible. Can I make multiple tweets with the same authorization session?"
   ]
  },
  {
   "cell_type": "code",
   "execution_count": 10,
   "metadata": {},
   "outputs": [],
   "source": [
    "new_payload = {'text': 'Is there anybody out there?'}\n",
    "\n",
    "response = oauth.post(\n",
    "    'https://api.twitter.com/2/tweets',\n",
    "    json=new_payload,\n",
    ")\n",
    "\n",
    "if response.status_code != 201:\n",
    "    raise Exception(\n",
    "        f'Received error {response.status_code} with message {response.text}.'\n",
    "    )"
   ]
  },
  {
   "cell_type": "markdown",
   "metadata": {},
   "source": [
    "It's working! I don't have to redo authorization/authentication for successive posts. The resl question is.. will this break tomorrow?\n",
    "\n",
    "Now for the next step: can I post an image with accompanying text?"
   ]
  },
  {
   "cell_type": "code",
   "execution_count": 14,
   "metadata": {},
   "outputs": [
    {
     "ename": "Exception",
     "evalue": "Received error 400 with message {\"errors\":[{\"message\":\"$.image: is not defined in the schema and the schema does not allow additional properties\"}],\"title\":\"Invalid Request\",\"detail\":\"One or more parameters to your request was invalid.\",\"type\":\"https://api.twitter.com/2/problems/invalid-request\"}.",
     "output_type": "error",
     "traceback": [
      "\u001b[1;31m---------------------------------------------------------------------------\u001b[0m",
      "\u001b[1;31mException\u001b[0m                                 Traceback (most recent call last)",
      "\u001b[1;32m<ipython-input-14-f28fc05ff0a2>\u001b[0m in \u001b[0;36m<module>\u001b[1;34m\u001b[0m\n\u001b[0;32m     12\u001b[0m \u001b[1;33m\u001b[0m\u001b[0m\n\u001b[0;32m     13\u001b[0m \u001b[1;32mif\u001b[0m \u001b[0mresponse\u001b[0m\u001b[1;33m.\u001b[0m\u001b[0mstatus_code\u001b[0m \u001b[1;33m!=\u001b[0m \u001b[1;36m201\u001b[0m\u001b[1;33m:\u001b[0m\u001b[1;33m\u001b[0m\u001b[1;33m\u001b[0m\u001b[0m\n\u001b[1;32m---> 14\u001b[1;33m     raise Exception(\n\u001b[0m\u001b[0;32m     15\u001b[0m         \u001b[1;34mf'Received error {response.status_code} with message {response.text}.'\u001b[0m\u001b[1;33m\u001b[0m\u001b[1;33m\u001b[0m\u001b[0m\n\u001b[0;32m     16\u001b[0m     )\n",
      "\u001b[1;31mException\u001b[0m: Received error 400 with message {\"errors\":[{\"message\":\"$.image: is not defined in the schema and the schema does not allow additional properties\"}],\"title\":\"Invalid Request\",\"detail\":\"One or more parameters to your request was invalid.\",\"type\":\"https://api.twitter.com/2/problems/invalid-request\"}."
     ]
    }
   ],
   "source": [
    "today = datetime.date.today().strftime('%Y-%m-%d')\n",
    "\n",
    "dbs_path = os.path.join(today, 'deepblue.jpg')\n",
    "\n",
    "mixed_payload = {'text': 'Deep Blue Something.',\n",
    "                 'image': dbs_path}\n",
    "\n",
    "response = oauth.post(\n",
    "    'https://api.twitter.com/2/tweets',\n",
    "    json=mixed_payload,\n",
    ")\n",
    "\n",
    "if response.status_code != 201:\n",
    "    raise Exception(\n",
    "        f'Received error {response.status_code} with message {response.text}.'\n",
    "    )"
   ]
  },
  {
   "cell_type": "markdown",
   "metadata": {},
   "source": [
    "I hit a bit of a snag here. It appears I need to upload my image via API using the media endpoint, and then I have to reference the uploaded image to include it in my tweet."
   ]
  },
  {
   "cell_type": "markdown",
   "metadata": {},
   "source": []
  }
 ],
 "metadata": {
  "kernelspec": {
   "display_name": "base",
   "language": "python",
   "name": "python3"
  },
  "language_info": {
   "codemirror_mode": {
    "name": "ipython",
    "version": 3
   },
   "file_extension": ".py",
   "mimetype": "text/x-python",
   "name": "python",
   "nbconvert_exporter": "python",
   "pygments_lexer": "ipython3",
   "version": "3.8.5"
  }
 },
 "nbformat": 4,
 "nbformat_minor": 2
}
