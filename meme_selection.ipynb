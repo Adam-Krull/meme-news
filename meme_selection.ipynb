{
 "cells": [
  {
   "cell_type": "markdown",
   "metadata": {},
   "source": [
    "# Purpose\n",
    "\n",
    "The purpose of this notebook is to develop a program that allows me to quickly review and approve/deny memes for publishing to X. The work done will lead to a script that runs after the meme generation script and before a future meme publishing script."
   ]
  },
  {
   "cell_type": "markdown",
   "metadata": {},
   "source": [
    "### Imports"
   ]
  },
  {
   "cell_type": "code",
   "execution_count": 1,
   "metadata": {},
   "outputs": [],
   "source": [
    "import re\n",
    "import datetime\n",
    "import os\n",
    "import json\n",
    "\n",
    "from PIL import Image"
   ]
  },
  {
   "cell_type": "markdown",
   "metadata": {},
   "source": [
    "I need to establish today's date the same way I do in the meme generation script, so I can easily access the memes generated today."
   ]
  },
  {
   "cell_type": "code",
   "execution_count": 2,
   "metadata": {},
   "outputs": [
    {
     "data": {
      "text/plain": [
       "'2024-01-19'"
      ]
     },
     "execution_count": 2,
     "metadata": {},
     "output_type": "execute_result"
    }
   ],
   "source": [
    "today = datetime.date.today().strftime('%Y-%m-%d')\n",
    "\n",
    "today"
   ]
  },
  {
   "cell_type": "markdown",
   "metadata": {},
   "source": [
    "In the same vein, I need to create the path that will lead me to the headlines.json file with the headlines used to generate the memes."
   ]
  },
  {
   "cell_type": "code",
   "execution_count": 3,
   "metadata": {},
   "outputs": [
    {
     "data": {
      "text/plain": [
       "'2024-01-19\\\\headlines.json'"
      ]
     },
     "execution_count": 3,
     "metadata": {},
     "output_type": "execute_result"
    }
   ],
   "source": [
    "headlines = os.path.join(today, 'headlines.json')\n",
    "\n",
    "headlines"
   ]
  },
  {
   "cell_type": "markdown",
   "metadata": {},
   "source": [
    "The filepath looks.. interesting. Let's see if it can pull up the descriptions saved today (01-19-24)."
   ]
  },
  {
   "cell_type": "code",
   "execution_count": 4,
   "metadata": {},
   "outputs": [
    {
     "data": {
      "text/plain": [
       "['A 14,000-year-old tusk offers clues about the relationship between early Alaskans and woolly mammoths',\n",
       " 'NY midwife gave children oral pellets instead of vaccines, fined $300K for falsifying records',\n",
       " 'Persistent complement dysregulation with signs of thromboinflammation in active Long Covid',\n",
       " 'Mystery Object in Deep Space Is Confounding Astronomers',\n",
       " 'Miami tight end Cam McCormick granted ninth season of playing college football',\n",
       " 'PM says Red Cross not involved in delivering drugs to hostages, Qatar is guarantor',\n",
       " 'Nelson Peltz outlines plans for Disney proxy battle',\n",
       " \"McCarthy on returning to Cowboys: 'Buy into us'\",\n",
       " \"New DOJ report finds 'cascading failures' during Uvalde shooting\",\n",
       " 'Google CEO’s internal memo warns of further layoffs ahead',\n",
       " 'Pakistan launches retaliatory strikes into Iran, killing nine people',\n",
       " '‘Wizards Of Waverly Place’ Revival Ordered With Selena Gomez Returning',\n",
       " 'Sundance Film Festival: Will Strike Hangover and New In-Person Rules Heat Up the Sales Market?',\n",
       " \"Live war updates: Israel claims 'US is next' for Hamas\"]"
      ]
     },
     "execution_count": 4,
     "metadata": {},
     "output_type": "execute_result"
    }
   ],
   "source": [
    "with open(headlines, 'r') as f:\n",
    "    descriptions = json.load(f)\n",
    "\n",
    "descriptions   "
   ]
  },
  {
   "cell_type": "markdown",
   "metadata": {},
   "source": [
    "Great! Is it a list?"
   ]
  },
  {
   "cell_type": "code",
   "execution_count": 5,
   "metadata": {},
   "outputs": [
    {
     "data": {
      "text/plain": [
       "'A 14,000-year-old tusk offers clues about the relationship between early Alaskans and woolly mammoths'"
      ]
     },
     "execution_count": 5,
     "metadata": {},
     "output_type": "execute_result"
    }
   ],
   "source": [
    "descriptions[0]"
   ]
  },
  {
   "cell_type": "markdown",
   "metadata": {},
   "source": [
    "I can successfully retrieve my headlines. Now for a bit of a challenge.. in this case, Wixards of Waverly Place didn't create a meme. I need to use the ends of the filenames for my memes to access elements from this list, in order to pair the memes with their headlines."
   ]
  },
  {
   "cell_type": "code",
   "execution_count": 6,
   "metadata": {},
   "outputs": [
    {
     "data": {
      "text/plain": [
       "['1705693022-1.jpg',\n",
       " '1705693024-1-meme.jpg',\n",
       " '1705693031-2.jpg',\n",
       " '1705693032-2-meme.jpg',\n",
       " '1705693041-3.jpg',\n",
       " '1705693042-3-meme.jpg',\n",
       " '1705693049-4.jpg',\n",
       " '1705693051-4-meme.jpg',\n",
       " '1705693125-5.jpg',\n",
       " '1705693126-5-meme.jpg',\n",
       " '1705693133-6.jpg',\n",
       " '1705693134-6-meme.jpg',\n",
       " '1705693142-7.jpg',\n",
       " '1705693143-7-meme.jpg',\n",
       " '1705693151-8.jpg',\n",
       " '1705693153-8-meme.jpg',\n",
       " '1705693160-9.jpg',\n",
       " '1705693161-9-meme.jpg',\n",
       " '1705693235-10.jpg',\n",
       " '1705693236-10-meme.jpg',\n",
       " '1705693244-11.jpg',\n",
       " '1705693245-11-meme.jpg',\n",
       " '1705693253-13.jpg',\n",
       " '1705693254-13-meme.jpg',\n",
       " '1705693261-14.jpg',\n",
       " '1705693262-14-meme.jpg',\n",
       " 'headlines.json']"
      ]
     },
     "execution_count": 6,
     "metadata": {},
     "output_type": "execute_result"
    }
   ],
   "source": [
    "memes = os.listdir(today)\n",
    "\n",
    "memes"
   ]
  },
  {
   "cell_type": "markdown",
   "metadata": {},
   "source": [
    "Hooray. The next series of cells will perform the manipulations necessary to extract the meme number, and use that number to access the associated headline from the json file."
   ]
  },
  {
   "cell_type": "code",
   "execution_count": 7,
   "metadata": {},
   "outputs": [
    {
     "data": {
      "text/plain": [
       "['-1-']"
      ]
     },
     "execution_count": 7,
     "metadata": {},
     "output_type": "execute_result"
    }
   ],
   "source": [
    "regexp = r\"-\\d+-\"\n",
    "\n",
    "search = re.findall(regexp, memes[1])\n",
    "\n",
    "search"
   ]
  },
  {
   "cell_type": "code",
   "execution_count": 8,
   "metadata": {},
   "outputs": [
    {
     "name": "stdout",
     "output_type": "stream",
     "text": [
      "Skipping 1705693022-1.jpg.\n",
      "Skipping 1705693031-2.jpg.\n",
      "Skipping 1705693041-3.jpg.\n",
      "Skipping 1705693049-4.jpg.\n",
      "Skipping 1705693125-5.jpg.\n",
      "Skipping 1705693133-6.jpg.\n",
      "Skipping 1705693142-7.jpg.\n",
      "Skipping 1705693151-8.jpg.\n",
      "Skipping 1705693160-9.jpg.\n",
      "Skipping 1705693235-10.jpg.\n",
      "Skipping 1705693244-11.jpg.\n",
      "Skipping 1705693253-13.jpg.\n",
      "Skipping 1705693261-14.jpg.\n",
      "Skipping headlines.json.\n"
     ]
    },
    {
     "data": {
      "text/plain": [
       "[1, 2, 3, 4, 5, 6, 7, 8, 9, 10, 11, 13, 14]"
      ]
     },
     "execution_count": 8,
     "metadata": {},
     "output_type": "execute_result"
    }
   ],
   "source": [
    "regexp = r\"-\\d+-\"\n",
    "num_list = []\n",
    "made_memes = []\n",
    "\n",
    "for meme in memes:\n",
    "    if 'meme' in meme:\n",
    "        extracted_num = re.findall(regexp, meme)[0].strip('-')\n",
    "        is_int = int(extracted_num)\n",
    "        num_list.append(is_int)\n",
    "        made_memes.append(meme)\n",
    "    else:\n",
    "        print(f'Skipping {meme}.')    \n",
    "\n",
    "num_list"
   ]
  },
  {
   "cell_type": "code",
   "execution_count": 9,
   "metadata": {},
   "outputs": [
    {
     "data": {
      "text/plain": [
       "['1705693024-1-meme.jpg',\n",
       " '1705693032-2-meme.jpg',\n",
       " '1705693042-3-meme.jpg',\n",
       " '1705693051-4-meme.jpg',\n",
       " '1705693126-5-meme.jpg',\n",
       " '1705693134-6-meme.jpg',\n",
       " '1705693143-7-meme.jpg',\n",
       " '1705693153-8-meme.jpg',\n",
       " '1705693161-9-meme.jpg',\n",
       " '1705693236-10-meme.jpg',\n",
       " '1705693245-11-meme.jpg',\n",
       " '1705693254-13-meme.jpg',\n",
       " '1705693262-14-meme.jpg']"
      ]
     },
     "execution_count": 9,
     "metadata": {},
     "output_type": "execute_result"
    }
   ],
   "source": [
    "made_memes"
   ]
  },
  {
   "cell_type": "markdown",
   "metadata": {},
   "source": [
    "I am able to extract a couple important pieces of information: the filenames for the created memes and the index numbers for the headlines. I'll put it all together now."
   ]
  },
  {
   "cell_type": "code",
   "execution_count": 10,
   "metadata": {},
   "outputs": [
    {
     "name": "stdout",
     "output_type": "stream",
     "text": [
      "The headline for meme 1705693024-1-meme.jpg is A 14,000-year-old tusk offers clues about the relationship between early Alaskans and woolly mammoths\n",
      "The headline for meme 1705693032-2-meme.jpg is NY midwife gave children oral pellets instead of vaccines, fined $300K for falsifying records\n",
      "The headline for meme 1705693042-3-meme.jpg is Persistent complement dysregulation with signs of thromboinflammation in active Long Covid\n",
      "The headline for meme 1705693051-4-meme.jpg is Mystery Object in Deep Space Is Confounding Astronomers\n",
      "The headline for meme 1705693126-5-meme.jpg is Miami tight end Cam McCormick granted ninth season of playing college football\n",
      "The headline for meme 1705693134-6-meme.jpg is PM says Red Cross not involved in delivering drugs to hostages, Qatar is guarantor\n",
      "The headline for meme 1705693143-7-meme.jpg is Nelson Peltz outlines plans for Disney proxy battle\n",
      "The headline for meme 1705693153-8-meme.jpg is McCarthy on returning to Cowboys: 'Buy into us'\n",
      "The headline for meme 1705693161-9-meme.jpg is New DOJ report finds 'cascading failures' during Uvalde shooting\n",
      "The headline for meme 1705693236-10-meme.jpg is Google CEO’s internal memo warns of further layoffs ahead\n",
      "The headline for meme 1705693245-11-meme.jpg is Pakistan launches retaliatory strikes into Iran, killing nine people\n",
      "The headline for meme 1705693254-13-meme.jpg is Sundance Film Festival: Will Strike Hangover and New In-Person Rules Heat Up the Sales Market?\n",
      "The headline for meme 1705693262-14-meme.jpg is Live war updates: Israel claims 'US is next' for Hamas\n"
     ]
    }
   ],
   "source": [
    "regexp = r\"-\\d+-\"\n",
    "\n",
    "for meme in memes:\n",
    "    if 'meme' in meme:\n",
    "        extracted_num = re.findall(regexp, meme)[0].strip('-')\n",
    "        index_pos = int(extracted_num) - 1\n",
    "        print(f'The headline for meme {meme} is {descriptions[index_pos]}')"
   ]
  },
  {
   "cell_type": "markdown",
   "metadata": {},
   "source": [
    "The images align with the memes correctly. Notice the Wizards of Waverley Place are missing from the printout.\n",
    "\n",
    "My next goal is to use this simple loop to programmatically open the memes for manual review. I will use the Image function from the PIL library to achieve this."
   ]
  },
  {
   "cell_type": "code",
   "execution_count": 11,
   "metadata": {},
   "outputs": [
    {
     "data": {
      "text/plain": [
       "'2024-01-19\\\\1705693024-1-meme.jpg'"
      ]
     },
     "execution_count": 11,
     "metadata": {},
     "output_type": "execute_result"
    }
   ],
   "source": [
    "image_path = os.path.join(today, made_memes[0])\n",
    "\n",
    "image_path"
   ]
  },
  {
   "cell_type": "code",
   "execution_count": 12,
   "metadata": {},
   "outputs": [],
   "source": [
    "img = Image.open(image_path)\n",
    "\n",
    "img.show()"
   ]
  },
  {
   "cell_type": "markdown",
   "metadata": {},
   "source": [
    "That was too easy. The image pops up on my PC. Now I need to write a basic loop that allows me to approve/deny memes."
   ]
  },
  {
   "cell_type": "code",
   "execution_count": 13,
   "metadata": {},
   "outputs": [
    {
     "name": "stdout",
     "output_type": "stream",
     "text": [
      "I approved of this meme located at 2024-01-19\\1705693024-1-meme.jpg.\n",
      "This meme did not make the cut: 2024-01-19\\1705693032-2-meme.jpg.\n",
      "This meme did not make the cut: 2024-01-19\\1705693042-3-meme.jpg.\n",
      "I approved of this meme located at 2024-01-19\\1705693051-4-meme.jpg.\n",
      "I approved of this meme located at 2024-01-19\\1705693126-5-meme.jpg.\n",
      "I approved of this meme located at 2024-01-19\\1705693134-6-meme.jpg.\n",
      "I approved of this meme located at 2024-01-19\\1705693143-7-meme.jpg.\n",
      "This meme did not make the cut: 2024-01-19\\1705693153-8-meme.jpg.\n",
      "This meme did not make the cut: 2024-01-19\\1705693161-9-meme.jpg.\n",
      "I approved of this meme located at 2024-01-19\\1705693236-10-meme.jpg.\n",
      "This meme did not make the cut: 2024-01-19\\1705693245-11-meme.jpg.\n",
      "This meme did not make the cut: 2024-01-19\\1705693254-13-meme.jpg.\n",
      "This meme did not make the cut: 2024-01-19\\1705693262-14-meme.jpg.\n"
     ]
    }
   ],
   "source": [
    "for meme in made_memes:\n",
    "    path = os.path.join(today, meme)\n",
    "    img = Image.open(path)\n",
    "    img.show()\n",
    "    judgment = input('Do you approve of this meme? Y/N')\n",
    "    if judgment.lower().strip() == 'y':\n",
    "        print(f'I approved of this meme located at {path}.')\n",
    "    else:\n",
    "        print(f'This meme did not make the cut: {path}.')    "
   ]
  },
  {
   "cell_type": "markdown",
   "metadata": {},
   "source": [
    "Excellent. Reminder for myself: the bar that accepts input in VSCode is located in the top center of my screen. That was embarrassing.\n",
    "\n",
    "Final goal for this notebook: output a JSON document of filepaths to the approved memes with their corresponding headlines."
   ]
  },
  {
   "cell_type": "code",
   "execution_count": 14,
   "metadata": {},
   "outputs": [
    {
     "name": "stdout",
     "output_type": "stream",
     "text": [
      "The headline for meme 1705693024-1-meme.jpg is A 14,000-year-old tusk offers clues about the relationship between early Alaskans and woolly mammoths\n",
      "I approved of this meme located at 2024-01-19\\1705693024-1-meme.jpg.\n",
      "This meme did not make the cut: 2024-01-19\\1705693032-2-meme.jpg.\n",
      "This meme did not make the cut: 2024-01-19\\1705693042-3-meme.jpg.\n",
      "The headline for meme 1705693051-4-meme.jpg is Mystery Object in Deep Space Is Confounding Astronomers\n",
      "I approved of this meme located at 2024-01-19\\1705693051-4-meme.jpg.\n",
      "The headline for meme 1705693126-5-meme.jpg is Miami tight end Cam McCormick granted ninth season of playing college football\n",
      "I approved of this meme located at 2024-01-19\\1705693126-5-meme.jpg.\n",
      "The headline for meme 1705693134-6-meme.jpg is PM says Red Cross not involved in delivering drugs to hostages, Qatar is guarantor\n",
      "I approved of this meme located at 2024-01-19\\1705693134-6-meme.jpg.\n",
      "The headline for meme 1705693143-7-meme.jpg is Nelson Peltz outlines plans for Disney proxy battle\n",
      "I approved of this meme located at 2024-01-19\\1705693143-7-meme.jpg.\n",
      "This meme did not make the cut: 2024-01-19\\1705693153-8-meme.jpg.\n",
      "This meme did not make the cut: 2024-01-19\\1705693161-9-meme.jpg.\n",
      "The headline for meme 1705693236-10-meme.jpg is Google CEO’s internal memo warns of further layoffs ahead\n",
      "I approved of this meme located at 2024-01-19\\1705693236-10-meme.jpg.\n",
      "This meme did not make the cut: 2024-01-19\\1705693245-11-meme.jpg.\n",
      "This meme did not make the cut: 2024-01-19\\1705693254-13-meme.jpg.\n",
      "This meme did not make the cut: 2024-01-19\\1705693262-14-meme.jpg.\n"
     ]
    }
   ],
   "source": [
    "regexp = r\"-\\d+-\"\n",
    "final_json = []\n",
    "\n",
    "for meme in made_memes:\n",
    "    path = os.path.join(today, meme)\n",
    "    img = Image.open(path)\n",
    "    img.show()\n",
    "    judgment = input('Do you approve of this meme? Y/N')\n",
    "    if judgment.lower().strip() == 'y':\n",
    "        extracted_num = re.findall(regexp, meme)[0].strip('-')\n",
    "        index_pos = int(extracted_num) - 1\n",
    "        print(f'The headline for meme {meme} is {descriptions[index_pos]}')\n",
    "        print(f'I approved of this meme located at {path}.')\n",
    "        mini_dict = {'headline': descriptions[index_pos], 'image': path}\n",
    "        final_json.append(mini_dict)\n",
    "    else:\n",
    "        print(f'This meme did not make the cut: {path}.')   "
   ]
  },
  {
   "cell_type": "code",
   "execution_count": 15,
   "metadata": {},
   "outputs": [
    {
     "data": {
      "text/plain": [
       "[{'headline': 'A 14,000-year-old tusk offers clues about the relationship between early Alaskans and woolly mammoths',\n",
       "  'image': '2024-01-19\\\\1705693024-1-meme.jpg'},\n",
       " {'headline': 'Mystery Object in Deep Space Is Confounding Astronomers',\n",
       "  'image': '2024-01-19\\\\1705693051-4-meme.jpg'},\n",
       " {'headline': 'Miami tight end Cam McCormick granted ninth season of playing college football',\n",
       "  'image': '2024-01-19\\\\1705693126-5-meme.jpg'},\n",
       " {'headline': 'PM says Red Cross not involved in delivering drugs to hostages, Qatar is guarantor',\n",
       "  'image': '2024-01-19\\\\1705693134-6-meme.jpg'},\n",
       " {'headline': 'Nelson Peltz outlines plans for Disney proxy battle',\n",
       "  'image': '2024-01-19\\\\1705693143-7-meme.jpg'},\n",
       " {'headline': 'Google CEO’s internal memo warns of further layoffs ahead',\n",
       "  'image': '2024-01-19\\\\1705693236-10-meme.jpg'}]"
      ]
     },
     "execution_count": 15,
     "metadata": {},
     "output_type": "execute_result"
    }
   ],
   "source": [
    "final_json"
   ]
  },
  {
   "cell_type": "markdown",
   "metadata": {},
   "source": [
    "Perfect! As you can see in the output, each element in the list is an approved meme with the corresponding headline. I just need to save this to a JSON file and I'm set! My final script will be able to read from this file and post the tweets to X."
   ]
  },
  {
   "cell_type": "code",
   "execution_count": 16,
   "metadata": {},
   "outputs": [],
   "source": [
    "filename = 'approvals.json'\n",
    "\n",
    "filepath = os.path.join(today, filename)\n",
    "\n",
    "with open(filepath, 'w') as f:\n",
    "    json.dump(final_json, f)"
   ]
  },
  {
   "cell_type": "markdown",
   "metadata": {},
   "source": [
    "The file is successfully created in my system. Now to develop the script!"
   ]
  },
  {
   "cell_type": "markdown",
   "metadata": {},
   "source": []
  }
 ],
 "metadata": {
  "kernelspec": {
   "display_name": "base",
   "language": "python",
   "name": "python3"
  },
  "language_info": {
   "codemirror_mode": {
    "name": "ipython",
    "version": 3
   },
   "file_extension": ".py",
   "mimetype": "text/x-python",
   "name": "python",
   "nbconvert_exporter": "python",
   "pygments_lexer": "ipython3",
   "version": "3.8.5"
  }
 },
 "nbformat": 4,
 "nbformat_minor": 2
}
